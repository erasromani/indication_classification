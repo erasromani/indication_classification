{
 "cells": [
  {
   "cell_type": "code",
   "execution_count": 1,
   "metadata": {},
   "outputs": [],
   "source": [
    "import pandas as pd"
   ]
  },
  {
   "cell_type": "code",
   "execution_count": 2,
   "metadata": {},
   "outputs": [],
   "source": [
    "data_file = \"/gpfs/data/geraslab/Jan/data/rad_reports/2022.01.combined_rad_reports/MRI.xlsx\""
   ]
  },
  {
   "cell_type": "code",
   "execution_count": 3,
   "metadata": {},
   "outputs": [],
   "source": [
    "df = pd.read_excel(data_file, engine='openpyxl', index_col=0)"
   ]
  },
  {
   "cell_type": "code",
   "execution_count": 4,
   "metadata": {},
   "outputs": [
    {
     "data": {
      "text/html": [
       "<div>\n",
       "<style scoped>\n",
       "    .dataframe tbody tr th:only-of-type {\n",
       "        vertical-align: middle;\n",
       "    }\n",
       "\n",
       "    .dataframe tbody tr th {\n",
       "        vertical-align: top;\n",
       "    }\n",
       "\n",
       "    .dataframe thead th {\n",
       "        text-align: right;\n",
       "    }\n",
       "</style>\n",
       "<table border=\"1\" class=\"dataframe\">\n",
       "  <thead>\n",
       "    <tr style=\"text-align: right;\">\n",
       "      <th></th>\n",
       "      <th>Acc</th>\n",
       "      <th>Mrn</th>\n",
       "      <th>ExamDateTime</th>\n",
       "      <th>ExamDescription</th>\n",
       "      <th>Report</th>\n",
       "    </tr>\n",
       "  </thead>\n",
       "  <tbody>\n",
       "    <tr>\n",
       "      <th>0</th>\n",
       "      <td>14798468</td>\n",
       "      <td>1861642</td>\n",
       "      <td>2018-05-22 17:18:00</td>\n",
       "      <td>MAMMO TOMOSYNTHESIS SCREENING BILATERAL</td>\n",
       "      <td>#14798468 MAMMO TOMOSYNTHESIS SCREENING BILATE...</td>\n",
       "    </tr>\n",
       "    <tr>\n",
       "      <th>1</th>\n",
       "      <td>14806683</td>\n",
       "      <td>9452441</td>\n",
       "      <td>2018-04-05 12:38:00</td>\n",
       "      <td>MAMMO TOMOSYNTHESIS SCREENING BILATERAL</td>\n",
       "      <td>#14806683 MAMMO TOMOSYNTHESIS SCREENING BILATE...</td>\n",
       "    </tr>\n",
       "    <tr>\n",
       "      <th>2</th>\n",
       "      <td>14831297</td>\n",
       "      <td>9018731</td>\n",
       "      <td>2018-03-22 16:11:00</td>\n",
       "      <td>MAMMO TOMOSYNTHESIS DIAGNOSTIC LEFT</td>\n",
       "      <td>#14831297 MAMMO TOMOSYNTHESIS DIAGNOSTIC LEFT:...</td>\n",
       "    </tr>\n",
       "    <tr>\n",
       "      <th>3</th>\n",
       "      <td>14714567</td>\n",
       "      <td>11221907</td>\n",
       "      <td>2018-03-07 08:03:00</td>\n",
       "      <td>MAMMO TOMOSYNTHESIS SCREENING BILATERAL</td>\n",
       "      <td>#14714567 MAMMO TOMOSYNTHESIS SCREENING BILATE...</td>\n",
       "    </tr>\n",
       "    <tr>\n",
       "      <th>4</th>\n",
       "      <td>14837351</td>\n",
       "      <td>1826356</td>\n",
       "      <td>2018-03-01 08:57:00</td>\n",
       "      <td>US FOOT COMPLETE RIGHT</td>\n",
       "      <td>IMPRESSION: No first webspace neuroma. Second ...</td>\n",
       "    </tr>\n",
       "  </tbody>\n",
       "</table>\n",
       "</div>"
      ],
      "text/plain": [
       "        Acc       Mrn        ExamDateTime  \\\n",
       "0  14798468   1861642 2018-05-22 17:18:00   \n",
       "1  14806683   9452441 2018-04-05 12:38:00   \n",
       "2  14831297   9018731 2018-03-22 16:11:00   \n",
       "3  14714567  11221907 2018-03-07 08:03:00   \n",
       "4  14837351   1826356 2018-03-01 08:57:00   \n",
       "\n",
       "                           ExamDescription  \\\n",
       "0  MAMMO TOMOSYNTHESIS SCREENING BILATERAL   \n",
       "1  MAMMO TOMOSYNTHESIS SCREENING BILATERAL   \n",
       "2      MAMMO TOMOSYNTHESIS DIAGNOSTIC LEFT   \n",
       "3  MAMMO TOMOSYNTHESIS SCREENING BILATERAL   \n",
       "4                   US FOOT COMPLETE RIGHT   \n",
       "\n",
       "                                              Report  \n",
       "0  #14798468 MAMMO TOMOSYNTHESIS SCREENING BILATE...  \n",
       "1  #14806683 MAMMO TOMOSYNTHESIS SCREENING BILATE...  \n",
       "2  #14831297 MAMMO TOMOSYNTHESIS DIAGNOSTIC LEFT:...  \n",
       "3  #14714567 MAMMO TOMOSYNTHESIS SCREENING BILATE...  \n",
       "4  IMPRESSION: No first webspace neuroma. Second ...  "
      ]
     },
     "execution_count": 4,
     "metadata": {},
     "output_type": "execute_result"
    }
   ],
   "source": [
    "df.head()"
   ]
  },
  {
   "cell_type": "code",
   "execution_count": 10,
   "metadata": {},
   "outputs": [
    {
     "data": {
      "text/plain": [
       "'IMPRESSION: Mild to moderate rotatory lumbar dextroscoliosis apex L1-2. Grade 1 anterolisthesis L4 on L5. Alignment appears comparable to prior MR allowing for differences in technique. No fracture. Vertebral body heights are maintained. Multilevel discogenic degenerative disease severe L4-5 and L5-S1 with marked loss of intervertebral disc space height, endplate sclerosis and spondylosis. Concomitant facet degeneration L4-5 and L5-S1. Findings may be associated with underlying central and/or neural foraminal stenosis. Apposition posterior spinous processes. Qualitative demineralization. No aggressive appearing osseous lesion identified. Atherosclerotic calcifications present. History: Low back pain for the past several months Technique: AP and lateral views of the lumbar spine Comparison: Lumbar MR 3/16/2015 Electronic Signature: I personally reviewed the images and agree with this report. Final Report: Dictated by and Signed by Attending Kevin Dunham MD 2/22/2018 1:20 PM'"
      ]
     },
     "execution_count": 10,
     "metadata": {},
     "output_type": "execute_result"
    }
   ],
   "source": [
    "df.iloc[5][\"Report\"]"
   ]
  },
  {
   "cell_type": "code",
   "execution_count": null,
   "metadata": {},
   "outputs": [],
   "source": []
  }
 ],
 "metadata": {
  "interpreter": {
   "hash": "695b5210a614224ba27c3a0437229566d3ce7767814e4cde27da0ba9e4ec9c9f"
  },
  "kernelspec": {
   "display_name": "Python 3.6.10 ('wmlce_env_1.7.1': conda)",
   "language": "python",
   "name": "python3"
  },
  "language_info": {
   "codemirror_mode": {
    "name": "ipython",
    "version": 3
   },
   "file_extension": ".py",
   "mimetype": "text/x-python",
   "name": "python",
   "nbconvert_exporter": "python",
   "pygments_lexer": "ipython3",
   "version": "3.6.13"
  },
  "orig_nbformat": 4
 },
 "nbformat": 4,
 "nbformat_minor": 2
}
