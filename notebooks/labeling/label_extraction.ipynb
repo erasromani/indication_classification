{
 "cells": [
  {
   "cell_type": "code",
   "execution_count": 19,
   "metadata": {},
   "outputs": [],
   "source": [
    "import json\n",
    "from pathlib import Path\n",
    "import pickle\n",
    "import numpy as np"
   ]
  },
  {
   "cell_type": "code",
   "execution_count": 3,
   "metadata": {},
   "outputs": [],
   "source": [
    "split = {\n",
    "  \"train\": 0.4,\n",
    "  \"val\": 0.2,\n",
    "  \"test\": 0.4,\n",
    "}"
   ]
  },
  {
   "cell_type": "code",
   "execution_count": 34,
   "metadata": {},
   "outputs": [],
   "source": [
    "num_data = 500"
   ]
  },
  {
   "cell_type": "code",
   "execution_count": 4,
   "metadata": {},
   "outputs": [],
   "source": [
    "assert sum(split.values()) == 1, \"split values must sum to 1.0\""
   ]
  },
  {
   "cell_type": "code",
   "execution_count": 5,
   "metadata": {},
   "outputs": [],
   "source": [
    "def extract_info(data):\n",
    "  text = data['task']['data']\n",
    "  id = data['task']['id']\n",
    "  found = False\n",
    "  for result in data['result']:\n",
    "    label_name = result['from_name']\n",
    "    if label_name == 'indication':\n",
    "      found = True\n",
    "      label = result['value']['choices'][0]\n",
    "      assert len(result['value']['choices']) == 1, f'more than one label selected for task {id}'\n",
    "  if not found:\n",
    "    print(f'no indication label found for task {id}')\n",
    "    return None\n",
    "  else:\n",
    "    return {\n",
    "      'id': id,\n",
    "      'text': text,\n",
    "      'label': label\n",
    "    }"
   ]
  },
  {
   "cell_type": "code",
   "execution_count": 6,
   "metadata": {},
   "outputs": [],
   "source": [
    "data_dir = Path('/gpfs/data/geraslab/ekr6072/projects/study_indication/data')\n",
    "output_path = data_dir / 'dataset.pkl'"
   ]
  },
  {
   "cell_type": "code",
   "execution_count": 7,
   "metadata": {},
   "outputs": [],
   "source": [
    "data_paths = list(data_dir.rglob('*.json'))"
   ]
  },
  {
   "cell_type": "code",
   "execution_count": 8,
   "metadata": {},
   "outputs": [
    {
     "name": "stdout",
     "output_type": "stream",
     "text": [
      "no indication label found for task 3858\n",
      "no indication label found for task 3814\n",
      "no indication label found for task 3899\n",
      "no indication label found for task 3871\n"
     ]
    }
   ],
   "source": [
    "dataset = []\n",
    "for data_path in data_paths:\n",
    "  with open(data_path, 'r') as f: \n",
    "    task = json.load(f)\n",
    "  data = extract_info(task)\n",
    "  if data is not None:\n",
    "    dataset.append(data)"
   ]
  },
  {
   "cell_type": "code",
   "execution_count": 27,
   "metadata": {},
   "outputs": [],
   "source": [
    "ids = []\n",
    "for data in dataset:\n",
    "  id = data['id']\n",
    "  ids.append(id)"
   ]
  },
  {
   "cell_type": "code",
   "execution_count": 31,
   "metadata": {},
   "outputs": [],
   "source": [
    "sort_indices = np.argsort(ids)"
   ]
  },
  {
   "cell_type": "code",
   "execution_count": 37,
   "metadata": {},
   "outputs": [],
   "source": [
    "train_max_id = int(split['train'] * num_data)\n",
    "val_max_id = int(split['val'] * num_data) + train_max_id"
   ]
  },
  {
   "cell_type": "code",
   "execution_count": 40,
   "metadata": {},
   "outputs": [],
   "source": [
    "train_ds = dataset[:train_max_id]\n",
    "val_ds = dataset[train_max_id:val_max_id]\n",
    "test_ds = dataset[val_max_id:]"
   ]
  },
  {
   "cell_type": "code",
   "execution_count": 41,
   "metadata": {},
   "outputs": [],
   "source": [
    "dataset = {\n",
    "  \"train\": train_ds,\n",
    "  \"val\": val_ds,\n",
    "  \"test\": test_ds\n",
    "}"
   ]
  },
  {
   "cell_type": "code",
   "execution_count": 42,
   "metadata": {},
   "outputs": [],
   "source": [
    "with open(output_path, 'wb') as f:\n",
    "  pickle.dump(dataset, f)"
   ]
  },
  {
   "cell_type": "code",
   "execution_count": null,
   "metadata": {},
   "outputs": [],
   "source": []
  }
 ],
 "metadata": {
  "interpreter": {
   "hash": "7ed162c912b93bb002fbfa43104448fd591708b144c0f60609ae8c85351539a1"
  },
  "kernelspec": {
   "display_name": "Python 3.9.5 ('fusion': conda)",
   "language": "python",
   "name": "python3"
  },
  "language_info": {
   "codemirror_mode": {
    "name": "ipython",
    "version": 3
   },
   "file_extension": ".py",
   "mimetype": "text/x-python",
   "name": "python",
   "nbconvert_exporter": "python",
   "pygments_lexer": "ipython3",
   "version": "3.6.13"
  },
  "orig_nbformat": 4
 },
 "nbformat": 4,
 "nbformat_minor": 2
}
