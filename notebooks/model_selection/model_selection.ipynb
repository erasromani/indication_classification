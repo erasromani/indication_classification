{
 "cells": [
  {
   "cell_type": "code",
   "execution_count": 4,
   "metadata": {},
   "outputs": [],
   "source": [
    "import pandas as pd\n",
    "import json\n",
    "import numpy as np\n",
    "import matplotlib.pyplot as plt\n",
    "import pickle\n",
    "import torch\n",
    "import pandas as pd\n",
    "\n",
    "from pathlib import Path\n",
    "from tqdm.notebook import trange, tqdm"
   ]
  },
  {
   "cell_type": "code",
   "execution_count": 2,
   "metadata": {},
   "outputs": [],
   "source": [
    "data_dir = Path(\"/gpfs/data/geraslab/ekr6072/projects/study_indication/final_results/clinicalslidingwindow_attention\")"
   ]
  },
  {
   "cell_type": "code",
   "execution_count": 3,
   "metadata": {},
   "outputs": [],
   "source": [
    "paths = list(data_dir.rglob(\"*/model_best_val.pt\"))"
   ]
  },
  {
   "cell_type": "code",
   "execution_count": 4,
   "metadata": {},
   "outputs": [
    {
     "data": {
      "application/vnd.jupyter.widget-view+json": {
       "model_id": "a89513b29f2a49abaa07a6f6b3c3e6eb",
       "version_major": 2,
       "version_minor": 0
      },
      "text/plain": [
       "  0%|          | 0/179 [00:00<?, ?it/s]"
      ]
     },
     "metadata": {},
     "output_type": "display_data"
    }
   ],
   "source": [
    "df = pd.DataFrame()\n",
    "\n",
    "for path in tqdm(paths):\n",
    "  with open(str(path.parent / \"config.json\"), \"r\") as f:\n",
    "    config = json.load(f)\n",
    "  \n",
    "  \n",
    "  data = torch.load(path)\n",
    "  metric_name = data['checkpoint_metric']\n",
    "  metric_value = data['metric_value']\n",
    "  config[metric_name] = metric_value\n",
    "\n",
    "  df2 = pd.DataFrame(config)\n",
    "  df = df.append(df2, ignore_index=True)\n"
   ]
  },
  {
   "cell_type": "code",
   "execution_count": 5,
   "metadata": {},
   "outputs": [],
   "source": [
    "df.to_csv(f'{data_dir.name}_results.csv')"
   ]
  },
  {
   "cell_type": "code",
   "execution_count": 6,
   "metadata": {},
   "outputs": [
    {
     "data": {
      "text/html": [
       "<div>\n",
       "<style scoped>\n",
       "    .dataframe tbody tr th:only-of-type {\n",
       "        vertical-align: middle;\n",
       "    }\n",
       "\n",
       "    .dataframe tbody tr th {\n",
       "        vertical-align: top;\n",
       "    }\n",
       "\n",
       "    .dataframe thead th {\n",
       "        text-align: right;\n",
       "    }\n",
       "</style>\n",
       "<table border=\"1\" class=\"dataframe\">\n",
       "  <thead>\n",
       "    <tr style=\"text-align: right;\">\n",
       "      <th></th>\n",
       "      <th>batch_size</th>\n",
       "      <th>c</th>\n",
       "      <th>clip_grad_norm</th>\n",
       "      <th>data_path</th>\n",
       "      <th>device</th>\n",
       "      <th>exclude_classes</th>\n",
       "      <th>grad_accum_steps</th>\n",
       "      <th>logging_steps</th>\n",
       "      <th>max_lr</th>\n",
       "      <th>model</th>\n",
       "      <th>num_classes</th>\n",
       "      <th>num_epochs</th>\n",
       "      <th>output_dir</th>\n",
       "      <th>reduction</th>\n",
       "      <th>save_path</th>\n",
       "      <th>seed</th>\n",
       "      <th>warmup_steps</th>\n",
       "      <th>weight_decay</th>\n",
       "      <th>f1_score</th>\n",
       "    </tr>\n",
       "  </thead>\n",
       "  <tbody>\n",
       "    <tr>\n",
       "      <th>0</th>\n",
       "      <td>4</td>\n",
       "      <td>None</td>\n",
       "      <td>1.0</td>\n",
       "      <td>../data/dataset.pkl</td>\n",
       "      <td>cuda</td>\n",
       "      <td>unknown</td>\n",
       "      <td>4</td>\n",
       "      <td>10</td>\n",
       "      <td>0.00002</td>\n",
       "      <td>clinicalslidingwindow</td>\n",
       "      <td>5</td>\n",
       "      <td>60</td>\n",
       "      <td>../results</td>\n",
       "      <td>attention</td>\n",
       "      <td>../results/20220501/140751</td>\n",
       "      <td>71226</td>\n",
       "      <td>100</td>\n",
       "      <td>0.00100</td>\n",
       "      <td>0.659619</td>\n",
       "    </tr>\n",
       "    <tr>\n",
       "      <th>1</th>\n",
       "      <td>4</td>\n",
       "      <td>None</td>\n",
       "      <td>1.0</td>\n",
       "      <td>../data/dataset.pkl</td>\n",
       "      <td>cuda</td>\n",
       "      <td>unknown</td>\n",
       "      <td>4</td>\n",
       "      <td>10</td>\n",
       "      <td>0.00010</td>\n",
       "      <td>clinicalslidingwindow</td>\n",
       "      <td>5</td>\n",
       "      <td>100</td>\n",
       "      <td>../results</td>\n",
       "      <td>attention</td>\n",
       "      <td>../results/20220501/090808</td>\n",
       "      <td>10096</td>\n",
       "      <td>25</td>\n",
       "      <td>0.00100</td>\n",
       "      <td>0.688878</td>\n",
       "    </tr>\n",
       "    <tr>\n",
       "      <th>2</th>\n",
       "      <td>4</td>\n",
       "      <td>None</td>\n",
       "      <td>1.0</td>\n",
       "      <td>../data/dataset.pkl</td>\n",
       "      <td>cuda</td>\n",
       "      <td>unknown</td>\n",
       "      <td>4</td>\n",
       "      <td>10</td>\n",
       "      <td>0.00005</td>\n",
       "      <td>clinicalslidingwindow</td>\n",
       "      <td>5</td>\n",
       "      <td>60</td>\n",
       "      <td>../results</td>\n",
       "      <td>attention</td>\n",
       "      <td>../results/20220501/150112</td>\n",
       "      <td>48386</td>\n",
       "      <td>25</td>\n",
       "      <td>0.00001</td>\n",
       "      <td>0.639412</td>\n",
       "    </tr>\n",
       "    <tr>\n",
       "      <th>3</th>\n",
       "      <td>4</td>\n",
       "      <td>None</td>\n",
       "      <td>1.0</td>\n",
       "      <td>../data/dataset.pkl</td>\n",
       "      <td>cuda</td>\n",
       "      <td>unknown</td>\n",
       "      <td>4</td>\n",
       "      <td>10</td>\n",
       "      <td>0.00010</td>\n",
       "      <td>clinicalslidingwindow</td>\n",
       "      <td>5</td>\n",
       "      <td>80</td>\n",
       "      <td>../results</td>\n",
       "      <td>attention</td>\n",
       "      <td>../results/20220501/092235</td>\n",
       "      <td>15667</td>\n",
       "      <td>100</td>\n",
       "      <td>0.00100</td>\n",
       "      <td>0.688507</td>\n",
       "    </tr>\n",
       "    <tr>\n",
       "      <th>4</th>\n",
       "      <td>4</td>\n",
       "      <td>None</td>\n",
       "      <td>1.0</td>\n",
       "      <td>../data/dataset.pkl</td>\n",
       "      <td>cuda</td>\n",
       "      <td>unknown</td>\n",
       "      <td>4</td>\n",
       "      <td>10</td>\n",
       "      <td>0.00001</td>\n",
       "      <td>clinicalslidingwindow</td>\n",
       "      <td>5</td>\n",
       "      <td>60</td>\n",
       "      <td>../results</td>\n",
       "      <td>attention</td>\n",
       "      <td>../results/20220501/102440</td>\n",
       "      <td>98247</td>\n",
       "      <td>50</td>\n",
       "      <td>0.00001</td>\n",
       "      <td>0.565570</td>\n",
       "    </tr>\n",
       "  </tbody>\n",
       "</table>\n",
       "</div>"
      ],
      "text/plain": [
       "   batch_size     c  clip_grad_norm            data_path device  \\\n",
       "0           4  None             1.0  ../data/dataset.pkl   cuda   \n",
       "1           4  None             1.0  ../data/dataset.pkl   cuda   \n",
       "2           4  None             1.0  ../data/dataset.pkl   cuda   \n",
       "3           4  None             1.0  ../data/dataset.pkl   cuda   \n",
       "4           4  None             1.0  ../data/dataset.pkl   cuda   \n",
       "\n",
       "  exclude_classes  grad_accum_steps  logging_steps   max_lr  \\\n",
       "0         unknown                 4             10  0.00002   \n",
       "1         unknown                 4             10  0.00010   \n",
       "2         unknown                 4             10  0.00005   \n",
       "3         unknown                 4             10  0.00010   \n",
       "4         unknown                 4             10  0.00001   \n",
       "\n",
       "                   model  num_classes  num_epochs  output_dir  reduction  \\\n",
       "0  clinicalslidingwindow            5          60  ../results  attention   \n",
       "1  clinicalslidingwindow            5         100  ../results  attention   \n",
       "2  clinicalslidingwindow            5          60  ../results  attention   \n",
       "3  clinicalslidingwindow            5          80  ../results  attention   \n",
       "4  clinicalslidingwindow            5          60  ../results  attention   \n",
       "\n",
       "                    save_path   seed  warmup_steps  weight_decay  f1_score  \n",
       "0  ../results/20220501/140751  71226           100       0.00100  0.659619  \n",
       "1  ../results/20220501/090808  10096            25       0.00100  0.688878  \n",
       "2  ../results/20220501/150112  48386            25       0.00001  0.639412  \n",
       "3  ../results/20220501/092235  15667           100       0.00100  0.688507  \n",
       "4  ../results/20220501/102440  98247            50       0.00001  0.565570  "
      ]
     },
     "execution_count": 6,
     "metadata": {},
     "output_type": "execute_result"
    }
   ],
   "source": [
    "df.head()"
   ]
  },
  {
   "cell_type": "code",
   "execution_count": 5,
   "metadata": {},
   "outputs": [],
   "source": [
    "paths = [\n",
    "  \"/gpfs/data/geraslab/ekr6072/projects/study_indication/notebooks/model_selection/clinicalbiobert_results.csv\",\n",
    "  \"/gpfs/data/geraslab/ekr6072/projects/study_indication/notebooks/model_selection/clinicalslidingwindow_attention_results.csv\",\n",
    "  \"/gpfs/data/geraslab/ekr6072/projects/study_indication/notebooks/model_selection/clinicalslidingwindow_max_results.csv\",\n",
    "  \"/gpfs/data/geraslab/ekr6072/projects/study_indication/notebooks/model_selection/clinicalslidingwindow_mean_max_results.csv\",\n",
    "  \"/gpfs/data/geraslab/ekr6072/projects/study_indication/notebooks/model_selection/clinicalslidingwindow_mean_results.csv\"\n",
    "]"
   ]
  },
  {
   "cell_type": "code",
   "execution_count": 6,
   "metadata": {},
   "outputs": [],
   "source": [
    "dfs = []\n",
    "for path in paths:\n",
    "  df = pd.read_csv(path)\n",
    "  dfs.append(df)"
   ]
  },
  {
   "cell_type": "code",
   "execution_count": 7,
   "metadata": {},
   "outputs": [],
   "source": [
    "dfs = pd.concat(dfs)"
   ]
  },
  {
   "cell_type": "code",
   "execution_count": 9,
   "metadata": {},
   "outputs": [],
   "source": [
    "dfs.to_csv('results.csv')"
   ]
  },
  {
   "cell_type": "code",
   "execution_count": null,
   "metadata": {},
   "outputs": [],
   "source": []
  }
 ],
 "metadata": {
  "interpreter": {
   "hash": "695b5210a614224ba27c3a0437229566d3ce7767814e4cde27da0ba9e4ec9c9f"
  },
  "kernelspec": {
   "display_name": "Python 3.6.10 ('wmlce_env_1.7.1': conda)",
   "language": "python",
   "name": "python3"
  },
  "language_info": {
   "codemirror_mode": {
    "name": "ipython",
    "version": 3
   },
   "file_extension": ".py",
   "mimetype": "text/x-python",
   "name": "python",
   "nbconvert_exporter": "python",
   "pygments_lexer": "ipython3",
   "version": "3.6.10"
  },
  "orig_nbformat": 4
 },
 "nbformat": 4,
 "nbformat_minor": 2
}
