{
 "cells": [
  {
   "cell_type": "code",
   "execution_count": 24,
   "metadata": {},
   "outputs": [],
   "source": [
    "from transformers import AutoTokenizer, AutoModel\n",
    "from pathlib import Path\n",
    "import pprint\n",
    "import pickle\n",
    "import matplotlib.pyplot as plt\n",
    "import numpy as np\n",
    "import torch\n",
    "import itertools\n",
    "import os\n",
    "import datetime\n",
    "from torch.utils.tensorboard import SummaryWriter\n",
    "from tqdm.notebook import trange, tqdm\n",
    "from torch.utils.data import DataLoader\n",
    "from torch.optim import Adam\n",
    "from sklearn.metrics import f1_score\n",
    "from functools import partial"
   ]
  },
  {
   "cell_type": "code",
   "execution_count": 2,
   "metadata": {},
   "outputs": [],
   "source": [
    "data_dir = Path('/gpfs/data/geraslab/ekr6072/projects/study_indication/data')\n",
    "data_path = data_dir / 'dataset.pkl'"
   ]
  },
  {
   "cell_type": "code",
   "execution_count": 3,
   "metadata": {},
   "outputs": [],
   "source": [
    "tokenizer = AutoTokenizer.from_pretrained(\"emilyalsentzer/Bio_ClinicalBERT\")"
   ]
  },
  {
   "cell_type": "code",
   "execution_count": 4,
   "metadata": {},
   "outputs": [],
   "source": [
    "from torch import nn\n",
    "\n",
    "class ClinicalBERT(nn.Module):\n",
    "  def __init__(self, num_classes):\n",
    "      super(ClinicalBERT, self).__init__()\n",
    "      self.bert = AutoModel.from_pretrained(\"emilyalsentzer/Bio_ClinicalBERT\")\n",
    "      self.linear = nn.Linear(768, num_classes)\n",
    "      self.loss_func = nn.CrossEntropyLoss()\n",
    "  \n",
    "  def forward(self, **kwargs):\n",
    "    x = self.bert(input_ids=kwargs['input_ids'], attention_mask=kwargs['attention_mask'])\n",
    "    logits = self.linear(x['pooler_output'])\n",
    "    label = kwargs['labels']\n",
    "    loss = self.loss_func(logits, label)\n",
    "    return {\n",
    "      \"loss\": loss,\n",
    "      \"logits\": logits\n",
    "    }"
   ]
  },
  {
   "cell_type": "code",
   "execution_count": 5,
   "metadata": {},
   "outputs": [],
   "source": [
    "with open(data_path, 'rb') as f:\n",
    "  dataset = pickle.load(f)"
   ]
  },
  {
   "cell_type": "code",
   "execution_count": 6,
   "metadata": {},
   "outputs": [],
   "source": [
    "def clean_dataset(dataset):\n",
    "  output = {}\n",
    "  for name, subset in dataset.items():\n",
    "    clean_subset = []\n",
    "    for data in subset:\n",
    "      label = data['label']\n",
    "      if label not in ['exclude', 'unknown']:\n",
    "        clean_subset.append(data)\n",
    "    output[name] = clean_subset\n",
    "  return output"
   ]
  },
  {
   "cell_type": "code",
   "execution_count": 7,
   "metadata": {},
   "outputs": [],
   "source": [
    "dataset = clean_dataset(dataset)"
   ]
  },
  {
   "cell_type": "code",
   "execution_count": 8,
   "metadata": {},
   "outputs": [],
   "source": [
    "category2id = {\n",
    "  '(high-risk) screening': 0,\n",
    "  'extent of disease / pre-operative planning': 1,\n",
    "  'additional workup': 2,\n",
    "  '6-month follow-up / surveillance': 3,\n",
    "  'treatment monitoring': 4,\n",
    "  'exclude': 5,\n",
    "  'unknown': 6,\n",
    "}"
   ]
  },
  {
   "cell_type": "code",
   "execution_count": 9,
   "metadata": {},
   "outputs": [],
   "source": [
    "train_texts = [data['text']['longText'] for data in dataset['train']]\n",
    "train_labels = [category2id[data['label']] for data in dataset['train']]"
   ]
  },
  {
   "cell_type": "code",
   "execution_count": 10,
   "metadata": {},
   "outputs": [],
   "source": [
    "val_texts = [data['text']['longText'] for data in dataset['val']]\n",
    "val_labels = [category2id[data['label']] for data in dataset['val']]"
   ]
  },
  {
   "cell_type": "code",
   "execution_count": 11,
   "metadata": {},
   "outputs": [],
   "source": [
    "train_encodings = tokenizer(train_texts, truncation=True, padding=True, max_length=512)\n",
    "val_encodings = tokenizer(val_texts, truncation=True, padding=True, max_length=512)"
   ]
  },
  {
   "cell_type": "code",
   "execution_count": 12,
   "metadata": {},
   "outputs": [],
   "source": [
    "lengths = []\n",
    "for sequence in train_encodings['input_ids']:\n",
    "  pad = np.where(np.array(sequence) == 0)[0]\n",
    "  if len(pad) == 0:\n",
    "    length = len(sequence)\n",
    "  else: \n",
    "    length = pad.min()\n",
    "  lengths.append(length)"
   ]
  },
  {
   "cell_type": "code",
   "execution_count": 13,
   "metadata": {},
   "outputs": [
    {
     "data": {
      "image/png": "[encoded data removed]",
      "text/plain": [
       "<Figure size 432x288 with 1 Axes>"
      ]
     },
     "metadata": {
      "needs_background": "light"
     },
     "output_type": "display_data"
    }
   ],
   "source": [
    "fig, ax = plt.subplots()\n",
    "ax.hist(lengths, bins=10);\n",
    "ax.set_xlabel('token count per example'); # add logits from all the classifiers and backprop through sum of the logits"
   ]
  },
  {
   "cell_type": "code",
   "execution_count": 14,
   "metadata": {},
   "outputs": [],
   "source": [
    "import torch\n",
    "\n",
    "class IndicationDataset(torch.utils.data.Dataset):\n",
    "    def __init__(self, encodings, labels):\n",
    "        self.encodings = encodings\n",
    "        self.labels = labels\n",
    "\n",
    "    def __getitem__(self, idx):\n",
    "        item = {key: torch.tensor(val[idx]) for key, val in self.encodings.items()}\n",
    "        item['labels'] = torch.tensor(self.labels[idx])\n",
    "        return item\n",
    "\n",
    "    def __len__(self):\n",
    "        return len(self.labels)\n",
    "\n",
    "train_dataset = IndicationDataset(train_encodings, train_labels)\n",
    "val_dataset = IndicationDataset(val_encodings, val_labels)"
   ]
  },
  {
   "cell_type": "code",
   "execution_count": 15,
   "metadata": {},
   "outputs": [],
   "source": [
    "from datasets import load_metric\n",
    "\n",
    "metric = load_metric(\"accuracy\")"
   ]
  },
  {
   "cell_type": "code",
   "execution_count": 16,
   "metadata": {},
   "outputs": [],
   "source": [
    "def compute_metrics(eval_pred):\n",
    "    logits, labels = eval_pred\n",
    "    predictions = np.argmax(logits, axis=-1)\n",
    "    return metric.compute(predictions=predictions, references=labels)"
   ]
  },
  {
   "cell_type": "code",
   "execution_count": 17,
   "metadata": {},
   "outputs": [],
   "source": [
    "train_dataloader = DataLoader(train_dataset, 16, shuffle=True)\n",
    "val_dataloader = DataLoader(val_dataset, 16, shuffle=False)"
   ]
  },
  {
   "cell_type": "code",
   "execution_count": 18,
   "metadata": {},
   "outputs": [],
   "source": [
    "def epoch_iter(num_epochs, dataloader):\n",
    "    steps_per_epoch = len(dataloader)\n",
    "    for epoch in range(num_epochs):\n",
    "      for step in range(steps_per_epoch):\n",
    "        yield epoch"
   ]
  },
  {
   "cell_type": "code",
   "execution_count": 21,
   "metadata": {},
   "outputs": [],
   "source": [
    "@torch.no_grad()\n",
    "def eval_loop(model, dataloader, device):\n",
    "    \"\"\"Run validation phase.\"\"\"\n",
    "    model.eval()\n",
    "\n",
    "    # Keeping track of metrics\n",
    "    total_loss = 0.0\n",
    "    total_correct = 0.0\n",
    "    total_count = 0\n",
    "    all_labels = []\n",
    "    all_preds = []\n",
    "\n",
    "    for batch in dataloader:\n",
    "        batch = {key: value.to(device) for key, value in batch.items()}        \n",
    "        outputs = model(**batch)\n",
    "        loss = outputs[\"loss\"]\n",
    "\n",
    "        # Only count non-padding tokens\n",
    "        # (Same idea as ignore_index=PAD_IDX above)\n",
    "        preds = outputs['logits'].argmax(-1)\n",
    "        labels = batch['labels']\n",
    "        correct_preds = (labels == preds).sum()\n",
    "        all_labels.append(labels)\n",
    "        all_preds.append(preds)\n",
    "\n",
    "        # Keeping track of metrics\n",
    "        total_loss += loss.item()\n",
    "        total_correct += correct_preds.item()\n",
    "        total_count += preds.shape[0]\n",
    "    all_labels = torch.cat(all_labels).cpu()\n",
    "    all_preds = torch.cat(all_preds).cpu()\n",
    "    return {\n",
    "        \"loss\": total_loss / total_count,\n",
    "        \"accuracy\": total_correct / total_count,\n",
    "        \"f1_score\": f1_score(all_labels, all_preds, average='macro')\n",
    "    }\n",
    "\n",
    "def train_step(optimizer, model, batch):\n",
    "    \"\"\"Run a single train step.\"\"\"\n",
    "    model.train()\n",
    "    optimizer.zero_grad()\n",
    "    outputs = model(**batch)\n",
    "    loss = outputs[\"loss\"]\n",
    "    loss.backward()\n",
    "    optimizer.step()\n",
    "    return loss.item()"
   ]
  },
  {
   "cell_type": "code",
   "execution_count": 108,
   "metadata": {},
   "outputs": [],
   "source": [
    "def lr_lambda(current_step: int, warmup_steps: int, total_steps: int, decay_type='linear'):\n",
    "    if current_step < warmup_steps:\n",
    "        return float(current_step) / float(max(1, warmup_steps))\n",
    "    if decay_type is None:\n",
    "        return 1.0\n",
    "    elif decay_type == 'linear':\n",
    "        w = - 1 / (total_steps - warmup_steps)\n",
    "        return (current_step - warmup_steps) * w + 1.0\n",
    "    elif decay_type == 'cosine':\n",
    "        w = np.pi / (total_steps - warmup_steps)\n",
    "        return 0.5 * np.cos(w * (current_step - warmup_steps)) + 0.5\n",
    "    else:\n",
    "        raise ValueError('invalid decay_type {} entered'.format(decay_type))"
   ]
  },
  {
   "cell_type": "code",
   "execution_count": 144,
   "metadata": {},
   "outputs": [
    {
     "name": "stderr",
     "output_type": "stream",
     "text": [
      "Some weights of the model checkpoint at emilyalsentzer/Bio_ClinicalBERT were not used when initializing BertModel: ['cls.predictions.bias', 'cls.predictions.transform.LayerNorm.bias', 'cls.predictions.transform.LayerNorm.weight', 'cls.predictions.transform.dense.bias', 'cls.predictions.decoder.weight', 'cls.seq_relationship.weight', 'cls.seq_relationship.bias', 'cls.predictions.transform.dense.weight']\n",
      "- This IS expected if you are initializing BertModel from the checkpoint of a model trained on another task or with another architecture (e.g. initializing a BertForSequenceClassification model from a BertForPreTraining model).\n",
      "- This IS NOT expected if you are initializing BertModel from the checkpoint of a model that you expect to be exactly identical (initializing a BertForSequenceClassification model from a BertForSequenceClassification model).\n"
     ]
    },
    {
     "name": "stdout",
     "output_type": "stream",
     "text": [
      "Step: 5/360, val acc: 0.344, val f1: 0.142\n",
      "Step: 10/360, val acc: 0.456, val f1: 0.125\n",
      "Step: 15/360, val acc: 0.456, val f1: 0.125\n",
      "Step: 20/360, val acc: 0.456, val f1: 0.125\n",
      "Step: 25/360, val acc: 0.456, val f1: 0.125\n",
      "Step: 30/360, val acc: 0.456, val f1: 0.125\n",
      "Step: 35/360, val acc: 0.456, val f1: 0.125\n",
      "Step: 40/360, val acc: 0.456, val f1: 0.125\n",
      "Step: 45/360, val acc: 0.656, val f1: 0.312\n",
      "Step: 50/360, val acc: 0.456, val f1: 0.125\n",
      "Step: 55/360, val acc: 0.678, val f1: 0.320\n",
      "Step: 60/360, val acc: 0.633, val f1: 0.303\n",
      "Step: 65/360, val acc: 0.689, val f1: 0.321\n",
      "Step: 70/360, val acc: 0.689, val f1: 0.317\n",
      "Step: 75/360, val acc: 0.711, val f1: 0.330\n",
      "Step: 80/360, val acc: 0.600, val f1: 0.412\n",
      "Step: 85/360, val acc: 0.689, val f1: 0.401\n",
      "Step: 90/360, val acc: 0.733, val f1: 0.465\n",
      "Step: 95/360, val acc: 0.656, val f1: 0.490\n",
      "Step: 100/360, val acc: 0.778, val f1: 0.516\n",
      "Step: 105/360, val acc: 0.556, val f1: 0.311\n",
      "Step: 110/360, val acc: 0.689, val f1: 0.506\n",
      "Step: 115/360, val acc: 0.756, val f1: 0.506\n",
      "Step: 120/360, val acc: 0.667, val f1: 0.502\n",
      "Step: 125/360, val acc: 0.700, val f1: 0.476\n",
      "Step: 130/360, val acc: 0.733, val f1: 0.484\n",
      "Step: 135/360, val acc: 0.733, val f1: 0.491\n",
      "Step: 140/360, val acc: 0.678, val f1: 0.461\n",
      "Step: 145/360, val acc: 0.733, val f1: 0.547\n",
      "Step: 150/360, val acc: 0.711, val f1: 0.503\n",
      "Step: 155/360, val acc: 0.711, val f1: 0.484\n",
      "Step: 160/360, val acc: 0.678, val f1: 0.506\n",
      "Step: 165/360, val acc: 0.733, val f1: 0.535\n",
      "Step: 170/360, val acc: 0.711, val f1: 0.503\n",
      "Step: 175/360, val acc: 0.700, val f1: 0.515\n",
      "Step: 180/360, val acc: 0.689, val f1: 0.463\n",
      "Step: 185/360, val acc: 0.711, val f1: 0.422\n",
      "Step: 190/360, val acc: 0.700, val f1: 0.476\n",
      "Step: 195/360, val acc: 0.689, val f1: 0.455\n",
      "Step: 200/360, val acc: 0.700, val f1: 0.488\n",
      "Step: 205/360, val acc: 0.644, val f1: 0.467\n",
      "Step: 210/360, val acc: 0.689, val f1: 0.506\n",
      "Step: 215/360, val acc: 0.767, val f1: 0.551\n",
      "Step: 220/360, val acc: 0.744, val f1: 0.520\n",
      "Step: 225/360, val acc: 0.744, val f1: 0.514\n",
      "Step: 230/360, val acc: 0.733, val f1: 0.494\n",
      "Step: 235/360, val acc: 0.711, val f1: 0.482\n",
      "Step: 240/360, val acc: 0.711, val f1: 0.482\n",
      "Step: 245/360, val acc: 0.711, val f1: 0.482\n",
      "Step: 250/360, val acc: 0.711, val f1: 0.482\n",
      "Step: 255/360, val acc: 0.711, val f1: 0.482\n",
      "Step: 260/360, val acc: 0.711, val f1: 0.482\n",
      "Step: 265/360, val acc: 0.711, val f1: 0.482\n",
      "Step: 270/360, val acc: 0.722, val f1: 0.487\n",
      "Step: 275/360, val acc: 0.722, val f1: 0.487\n",
      "Step: 280/360, val acc: 0.722, val f1: 0.487\n",
      "Step: 285/360, val acc: 0.722, val f1: 0.487\n",
      "Step: 290/360, val acc: 0.722, val f1: 0.487\n",
      "Step: 295/360, val acc: 0.722, val f1: 0.487\n",
      "Step: 300/360, val acc: 0.722, val f1: 0.487\n",
      "Step: 305/360, val acc: 0.722, val f1: 0.487\n",
      "Step: 310/360, val acc: 0.722, val f1: 0.487\n",
      "Step: 315/360, val acc: 0.733, val f1: 0.507\n",
      "Step: 320/360, val acc: 0.733, val f1: 0.507\n",
      "Step: 325/360, val acc: 0.733, val f1: 0.507\n",
      "Step: 330/360, val acc: 0.733, val f1: 0.507\n",
      "Step: 335/360, val acc: 0.733, val f1: 0.507\n",
      "Step: 340/360, val acc: 0.733, val f1: 0.507\n",
      "Step: 345/360, val acc: 0.733, val f1: 0.507\n",
      "Step: 350/360, val acc: 0.733, val f1: 0.507\n",
      "Step: 355/360, val acc: 0.733, val f1: 0.507\n"
     ]
    }
   ],
   "source": [
    "NUM_EPOCHS = 30\n",
    "model = ClinicalBERT(5)\n",
    "optimizer = Adam(model.parameters(), lr=1e-4, weight_decay=1e-6)\n",
    "warmup_steps = 50\n",
    "\n",
    "device = torch.device(\"cuda\" if torch.cuda.is_available() else \"cpu\")\n",
    "timestamp = datetime.datetime.now()\n",
    "date = timestamp.strftime(\"%Y%m%d\")\n",
    "time = timestamp.strftime(\"%H%M%S\")\n",
    "save_path = f'./results/{date}/{time}'\n",
    "total_steps = NUM_EPOCHS * len(train_dataloader)\n",
    "lr_scheduler = None if warmup_steps is None \\\n",
    "                    else torch.optim.lr_scheduler.LambdaLR(optimizer, partial(lr_lambda, warmup_steps=warmup_steps, \n",
    "                                                                                         total_steps=total_steps))\n",
    "train_loss_list = []\n",
    "writer = SummaryWriter(log_dir=os.path.join(save_path, 'tb_logs'))\n",
    "model.to(device)\n",
    "for step, epoch, batch in zip(range(total_steps), epoch_iter(NUM_EPOCHS, train_dataloader), itertools.cycle(train_dataloader)):\n",
    "    batch = {key: value.to(device) for key, value in batch.items()}\n",
    "    loss_val = train_step(\n",
    "        optimizer=optimizer,\n",
    "        model=model,\n",
    "        batch=batch,\n",
    "    )\n",
    "    writer.add_scalar(\"learning_rate\", optimizer.param_groups[0]['lr'], step)\n",
    "    if lr_scheduler is not None:\n",
    "        lr_scheduler.step()\n",
    "\n",
    "    writer.add_scalar(\"epoch\", epoch, step)\n",
    "    writer.add_scalar(\"loss/train\", loss_val, step)\n",
    "    train_loss_list.append(loss_val)\n",
    "    if step % 5 == 0 and step != 0:\n",
    "        val_results = eval_loop(\n",
    "            model=model,\n",
    "            dataloader=val_dataloader,\n",
    "            device=device\n",
    "        )\n",
    "        for key, value in val_results.items():\n",
    "            writer.add_scalar(f\"{key}/val\", value, step)\n",
    "        print(\"Step: {}/{}, val acc: {:.3f}, val f1: {:.3f}\".format(\n",
    "            step, \n",
    "            total_steps,\n",
    "            val_results[\"accuracy\"],\n",
    "            val_results[\"f1_score\"])\n",
    "        )\n",
    "writer.flush()\n",
    "writer.close()"
   ]
  },
  {
   "cell_type": "code",
   "execution_count": null,
   "metadata": {},
   "outputs": [],
   "source": []
  }
 ],
 "metadata": {
  "interpreter": {
   "hash": "ee3b5efc781680bf777f6c0f6ded34256a070c94fe240b983fb244a284c14fe0"
  },
  "kernelspec": {
   "display_name": "Python 3.6.13 ('ds_1012': conda)",
   "language": "python",
   "name": "python3"
  },
  "language_info": {
   "codemirror_mode": {
    "name": "ipython",
    "version": 3
   },
   "file_extension": ".py",
   "mimetype": "text/x-python",
   "name": "python",
   "nbconvert_exporter": "python",
   "pygments_lexer": "ipython3",
   "version": "3.6.13"
  },
  "orig_nbformat": 4
 },
 "nbformat": 4,
 "nbformat_minor": 2
}
